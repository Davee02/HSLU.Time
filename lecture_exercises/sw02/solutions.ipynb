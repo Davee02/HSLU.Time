{
 "cells": [
  {
   "cell_type": "markdown",
   "id": "39b7bb81",
   "metadata": {},
   "source": [
    "# SW 02 Exercises Solutions\n",
    "\n",
    "## Part 1: Generate 2-3 synthetic time series with known components and review how well components are extracted\n",
    "\n",
    "Deif"
   ]
  },
  {
   "cell_type": "code",
   "execution_count": null,
   "id": "39242028",
   "metadata": {},
   "outputs": [],
   "source": []
  },
  {
   "cell_type": "markdown",
   "id": "7c16c6de",
   "metadata": {},
   "source": [
    "## Part 2: Generate and interpret ACF plots\n",
    "\n",
    "Deif"
   ]
  },
  {
   "cell_type": "code",
   "execution_count": null,
   "id": "ed3c57e1",
   "metadata": {},
   "outputs": [],
   "source": []
  },
  {
   "cell_type": "markdown",
   "id": "9a9fe69a",
   "metadata": {},
   "source": [
    "## Part 3: Reimplement classical decomposition\n",
    "\n",
    "Meiko"
   ]
  },
  {
   "cell_type": "code",
   "execution_count": null,
   "id": "ad5a889d",
   "metadata": {},
   "outputs": [],
   "source": []
  },
  {
   "cell_type": "markdown",
   "id": "ba4e7029",
   "metadata": {},
   "source": [
    "## Part 3: Extend lecture 1 exercise with ACF plots and time series decomposition\n",
    "\n",
    "Nevin"
   ]
  },
  {
   "cell_type": "code",
   "execution_count": null,
   "id": "f3d3fe66",
   "metadata": {},
   "outputs": [],
   "source": []
  }
 ],
 "metadata": {
  "kernelspec": {
   "display_name": "time",
   "language": "python",
   "name": "python3"
  },
  "language_info": {
   "name": "python",
   "version": "3.11.13"
  }
 },
 "nbformat": 4,
 "nbformat_minor": 5
}
